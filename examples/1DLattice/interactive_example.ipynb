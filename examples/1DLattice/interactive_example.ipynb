{
 "cells": [
  {
   "cell_type": "code",
   "execution_count": null,
   "metadata": {},
   "outputs": [],
   "source": [
    "from platform import python_version\n",
    "print(python_version())"
   ]
  },
  {
   "cell_type": "code",
   "execution_count": null,
   "metadata": {},
   "outputs": [],
   "source": [
    "import argparse\n",
    "import logging\n",
    "from pathlib import Path\n",
    "\n",
    "import numpy as np"
   ]
  },
  {
   "cell_type": "code",
   "execution_count": null,
   "metadata": {},
   "outputs": [],
   "source": [
    "import sys\n",
    "sys.path.append('../../source/')\n"
   ]
  },
  {
   "cell_type": "code",
   "execution_count": null,
   "metadata": {},
   "outputs": [],
   "source": [
    "\n",
    "import HolographicLattices"
   ]
  },
  {
   "cell_type": "code",
   "execution_count": null,
   "metadata": {},
   "outputs": [],
   "source": [
    "from HolographicLattices.DifferentialOperators.DifferentialOperator import \\\n",
    "    StructuredFiniteDifferenceDifferentialOperator\n",
    "from HolographicLattices.Equations.EquationsOfMotion import EquationsOfMotion\n",
    "from HolographicLattices.Equations.Jacobian import FiniteDifferenceJacobian\n",
    "from HolographicLattices.IO.SeedLoader import load_seed_algebraic\n",
    "from HolographicLattices.Physics.Observables import Observables\n",
    "from HolographicLattices.LinearSolver.SimpleLinearSolver import SimpleLinearSolver\n",
    "from HolographicLattices.NonLinearSolver.NRNonLinearSolver import NewtonRaphsonFiniteDifferenceBVPSolver as NRSolver\n",
    "from HolographicLattices.Options import Options\n",
    "from HolographicLattices.Utilities import GridUtilities"
   ]
  },
  {
   "cell_type": "code",
   "execution_count": null,
   "metadata": {},
   "outputs": [],
   "source": [
    "    # Basic argparse for some settings. Can be extended, but not required.\n",
    "    parser = argparse.ArgumentParser()\n",
    "\n",
    "    parser.add_argument(\"--setupfile\", type=Path, help=\"Setup .yaml file to read from\")\n",
    "    parser.add_argument(\"--output\", type=Path, nargs=\"?\", help=\"Where to output\")\n",
    "    parser.add_argument(\"--log\", type=str, default=\"INFO\",\n",
    "                        help=\"Logging level to print, choice of [NONE|DEBUG|INFO|WARN|ERROR|CRITICAL]\")\n",
    "    parser.add_argument(\"--logfile\", type=Path, default=\"SolveWithFD.log\", help=\"Location of log file\")\n",
    "    parser.add_argument(\"--seedfile\", type=Path, nargs=\"?\")\n",
    "\n",
    "    parsed, rest = parser.parse_known_args()\n",
    "\n",
    "    logging.basicConfig(format=\"%(asctime)s - %(name)s - %(levelname)s - %(message)s\", filename=parsed.logfile,\n",
    "                        level=parsed.log)\n"
   ]
  },
  {
   "cell_type": "code",
   "execution_count": null,
   "metadata": {},
   "outputs": [],
   "source": [
    "    # Load all the options\n",
    "    #setupfile = parsed.setupfile\n",
    "    \n",
    "    setupfile=\"1DLattice_setup.yaml\"\n",
    "\n",
    "    io_options       = Options.IOOptions.load_from_file(setupfile)\n",
    "    equation_options = Options.EquationOptions.load_from_file(setupfile)\n",
    "    grid_options     = Options.GridOptions.load_from_file(setupfile)\n",
    "    solver_options   = Options.NonLinearSolverOptions.load_from_file(setupfile)\n",
    "    constant_options = Options.ConstantOptions.load_from_file_safe(setupfile)\n",
    "\n",
    "    grid_dimensions = grid_options.grid_sizes"
   ]
  },
  {
   "cell_type": "code",
   "execution_count": null,
   "metadata": {},
   "outputs": [],
   "source": []
  }
 ],
 "metadata": {
  "kernelspec": {
   "display_name": "Python 3",
   "language": "python",
   "name": "python3"
  },
  "language_info": {
   "codemirror_mode": {
    "name": "ipython",
    "version": 3
   },
   "file_extension": ".py",
   "mimetype": "text/x-python",
   "name": "python",
   "nbconvert_exporter": "python",
   "pygments_lexer": "ipython3",
   "version": "3.10.12"
  }
 },
 "nbformat": 4,
 "nbformat_minor": 2
}

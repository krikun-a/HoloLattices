{
 "cells": [
  {
   "cell_type": "code",
   "execution_count": null,
   "metadata": {},
   "outputs": [],
   "source": [
    "from platform import python_version\n",
    "print(python_version())"
   ]
  },
  {
   "cell_type": "code",
   "execution_count": null,
   "metadata": {},
   "outputs": [],
   "source": [
    "%load_ext autoreload\n",
    "%autoreload 2"
   ]
  },
  {
   "cell_type": "code",
   "execution_count": null,
   "metadata": {},
   "outputs": [],
   "source": [
    "import argparse\n",
    "import logging\n",
    "from pathlib import Path\n",
    "\n",
    "import numpy as np"
   ]
  },
  {
   "cell_type": "code",
   "execution_count": null,
   "metadata": {},
   "outputs": [],
   "source": [
    "import sys\n",
    "sys.path.append('../../source/')\n"
   ]
  },
  {
   "cell_type": "code",
   "execution_count": null,
   "metadata": {},
   "outputs": [],
   "source": [
    "\n",
    "import HolographicLattices"
   ]
  },
  {
   "cell_type": "code",
   "execution_count": null,
   "metadata": {},
   "outputs": [],
   "source": [
    "from HolographicLattices.DifferentialOperators.DifferentialOperator import *\n",
    "from HolographicLattices.Equations.EquationsOfMotion import EquationsOfMotion\n",
    "from HolographicLattices.Equations.Jacobian import FiniteDifferenceJacobian\n",
    "from HolographicLattices.IO.SeedLoader import load_seed_algebraic\n",
    "from HolographicLattices.Physics.Observables import Observables\n",
    "from HolographicLattices.LinearSolver.SimpleLinearSolver import SimpleLinearSolver\n",
    "from HolographicLattices.NonLinearSolver.NRNonLinearSolver import NewtonRaphsonFiniteDifferenceBVPSolver as NRSolver\n",
    "from HolographicLattices.Options import Options\n",
    "from HolographicLattices.Utilities import GridUtilities"
   ]
  },
  {
   "cell_type": "code",
   "execution_count": null,
   "metadata": {},
   "outputs": [],
   "source": [
    "    # Basic argparse for some settings. Can be extended, but not required.\n",
    "    parser = argparse.ArgumentParser()\n",
    "\n",
    "    parser.add_argument(\"--setupfile\", type=Path, help=\"Setup .yaml file to read from\")\n",
    "    parser.add_argument(\"--output\", type=Path, nargs=\"?\", help=\"Where to output\")\n",
    "    parser.add_argument(\"--log\", type=str, default=\"INFO\",\n",
    "                        help=\"Logging level to print, choice of [NONE|DEBUG|INFO|WARN|ERROR|CRITICAL]\")\n",
    "    parser.add_argument(\"--logfile\", type=Path, default=\"SolveWithFD.log\", help=\"Location of log file\")\n",
    "    parser.add_argument(\"--seedfile\", type=Path, nargs=\"?\")\n",
    "\n",
    "    parsed, rest = parser.parse_known_args()\n",
    "\n",
    "    logging.basicConfig(format=\"%(asctime)s - %(name)s - %(levelname)s - %(message)s\", filename=parsed.logfile,\n",
    "                        level=parsed.log)\n"
   ]
  },
  {
   "cell_type": "code",
   "execution_count": null,
   "metadata": {},
   "outputs": [],
   "source": [
    "    # Load all the options\n",
    "    #setupfile = parsed.setupfile\n",
    "    \n",
    "    setupfile=\"1DLattice_setup.yaml\"\n",
    "\n",
    "    io_options       = Options.IOOptions.load_from_file(setupfile)\n",
    "    equation_options = Options.EquationOptions.load_from_file(setupfile)\n",
    "#    grid_options     = Options.GridOptions.load_from_file(setupfile)\n",
    "    solver_options   = Options.NonLinearSolverOptions.load_from_file(setupfile)\n",
    "    constant_options = Options.ConstantOptions.load_from_file_safe(setupfile)\n",
    "\n",
    "    grid_dimensions = equation_options.grid_sizes"
   ]
  },
  {
   "cell_type": "code",
   "execution_count": null,
   "metadata": {},
   "outputs": [],
   "source": [
    "equations_of_motion = EquationsOfMotion(constant_options=constant_options, equation_options=equation_options)\n",
    "\n",
    "equations_of_motion.load_from_folder(io_options.coefficient_folder, equation_options.grid_periodic)\n",
    "\n",
    "grid_information = GridUtilities.GridInformation(equation_options)"
   ]
  },
  {
   "cell_type": "code",
   "execution_count": null,
   "metadata": {},
   "outputs": [],
   "source": [
    "differential_operator = MixedFDDSpectralDifferentialOperator.construct_differentiation_matrices(\n",
    "            equation_options=equation_options, max_deriv=2\n",
    "        )"
   ]
  },
  {
   "cell_type": "code",
   "execution_count": null,
   "metadata": {},
   "outputs": [],
   "source": [
    "np.ravel"
   ]
  },
  {
   "cell_type": "code",
   "execution_count": null,
   "metadata": {},
   "outputs": [],
   "source": [
    "linear_solver = SimpleLinearSolver()"
   ]
  },
  {
   "cell_type": "code",
   "execution_count": null,
   "metadata": {},
   "outputs": [],
   "source": [
    "jacobian = FiniteDifferenceJacobian(\n",
    "            constant_options=constant_options,\n",
    "            equation_options=equation_options,\n",
    "            finite_difference_matrices=differential_operator.get_matrix_representation()\n",
    "        )"
   ]
  },
  {
   "cell_type": "code",
   "execution_count": null,
   "metadata": {},
   "outputs": [],
   "source": [
    "jacobian.load_from_folder(folder=io_options.coefficient_folder, periodicities=equation_options.grid_periodic)\n"
   ]
  },
  {
   "cell_type": "code",
   "execution_count": null,
   "metadata": {},
   "outputs": [],
   "source": [
    "observables = Observables.parse_observables(io_options.observables_file, constant_options, equation_options)"
   ]
  },
  {
   "cell_type": "code",
   "execution_count": null,
   "metadata": {},
   "outputs": [],
   "source": [
    "nonlinear_solver = NRSolver(solver_options=solver_options, differential_operator=differential_operator,\n",
    "                                equations_of_motion=equations_of_motion, linear_solver=linear_solver, jacobian=jacobian,\n",
    "                                grid_information=grid_information, observables=observables)"
   ]
  },
  {
   "cell_type": "code",
   "execution_count": null,
   "metadata": {},
   "outputs": [],
   "source": [
    "seed = load_seed_algebraic(io_options.seed_file, constant_options, grid_information)"
   ]
  },
  {
   "cell_type": "code",
   "execution_count": null,
   "metadata": {},
   "outputs": [],
   "source": [
    "seed.shape"
   ]
  },
  {
   "cell_type": "code",
   "execution_count": null,
   "metadata": {},
   "outputs": [],
   "source": [
    "_, _, success = nonlinear_solver.solve(seed)"
   ]
  },
  {
   "cell_type": "code",
   "execution_count": null,
   "metadata": {},
   "outputs": [],
   "source": [
    "if success:\n",
    "    result = nonlinear_solver.last_result\n",
    "    result.write_to_file(io_options.output_file)"
   ]
  },
  {
   "cell_type": "code",
   "execution_count": null,
   "metadata": {},
   "outputs": [],
   "source": [
    "import HolographicLattices.FiniteDifferences.FiniteDifferenceMatrices"
   ]
  },
  {
   "cell_type": "code",
   "execution_count": null,
   "metadata": {},
   "outputs": [],
   "source": [
    "HolographicLattices.Utilities.GridUtilities.get_all_derivatives(2, 2)"
   ]
  },
  {
   "cell_type": "code",
   "execution_count": null,
   "metadata": {},
   "outputs": [],
   "source": [
    "equation_options.max_deriv"
   ]
  },
  {
   "cell_type": "code",
   "execution_count": null,
   "metadata": {},
   "outputs": [],
   "source": []
  },
  {
   "cell_type": "code",
   "execution_count": null,
   "metadata": {},
   "outputs": [],
   "source": [
    "seed = load_seed_algebraic(io_options.seed_file, constant_options, grid_info)"
   ]
  },
  {
   "cell_type": "code",
   "execution_count": null,
   "metadata": {},
   "outputs": [],
   "source": [
    "seed.shape"
   ]
  },
  {
   "cell_type": "code",
   "execution_count": null,
   "metadata": {},
   "outputs": [],
   "source": []
  }
 ],
 "metadata": {
  "kernelspec": {
   "display_name": "Python 3",
   "language": "python",
   "name": "python3"
  },
  "language_info": {
   "codemirror_mode": {
    "name": "ipython",
    "version": 3
   },
   "file_extension": ".py",
   "mimetype": "text/x-python",
   "name": "python",
   "nbconvert_exporter": "python",
   "pygments_lexer": "ipython3",
   "version": "3.10.12"
  }
 },
 "nbformat": 4,
 "nbformat_minor": 2
}
